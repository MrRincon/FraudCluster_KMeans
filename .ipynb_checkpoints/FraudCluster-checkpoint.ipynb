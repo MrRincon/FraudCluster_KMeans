{
 "cells": [
  {
   "cell_type": "markdown",
   "id": "103f7f43-7c01-407b-8275-197554c9369c",
   "metadata": {},
   "source": [
    "**FraudCluster - Fraudulent Bank Transaction Detection Model with Exploratory Data Analysis - Using K-Means Clustering**\r\n",
    "\r\n",
    "--:**Alam Rincon** - [GitHub: MrRincon](https://github.com/MrRincon)\n",
    "\n",
    "**Petar Atanasov** - [GitHub: petar-Atanasov](https://github.com/petar-Atanasov)\n",
    "7**Teon Morgan** - [GitHub: Mi1kDev](https://github.com/Mi1kDev)Coursework A**"
   ]
  },
  {
   "cell_type": "code",
   "execution_count": null,
   "id": "435a8d0c-56ea-4c5b-8f8e-1a5058855891",
   "metadata": {},
   "outputs": [],
   "source": []
  }
 ],
 "metadata": {
  "kernelspec": {
   "display_name": "Python 3 (ipykernel)",
   "language": "python",
   "name": "python3"
  },
  "language_info": {
   "codemirror_mode": {
    "name": "ipython",
    "version": 3
   },
   "file_extension": ".py",
   "mimetype": "text/x-python",
   "name": "python",
   "nbconvert_exporter": "python",
   "pygments_lexer": "ipython3",
   "version": "3.11.7"
  }
 },
 "nbformat": 4,
 "nbformat_minor": 5
}
