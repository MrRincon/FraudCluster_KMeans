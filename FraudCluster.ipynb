{
 "cells": [
  {
   "cell_type": "markdown",
   "id": "596ae9c3-6539-49e8-b01c-42ec69adda96",
   "metadata": {},
   "source": [
    "# **FraudCluster - Fraudulent Bank Transaction Detection Model with Exploratory Data Analysis - Using K-Means Clustering**\n",
    "\n",
    "---\n",
    "\n",
    "**Alam Rincon - [GitHub: MrRincon](https://github.com/MrRincon)**\n",
    "\n",
    "**Petar Atanasov - [GitHub: petar-Atanasov](https://github.com/petar-Atanasov)**\n",
    "\n",
    "**Teon Morgan - [GitHub: Mi1kDev](https://github.com/Mi1kDev)**"
   ]
  },
  {
   "cell_type": "markdown",
   "id": "204c1186-d9a7-4195-9186-5fb6fd915f0a",
   "metadata": {},
   "source": [
    "---\n",
    "\n",
    "**Khorasani, V. (2024) 'Bank Transaction Dataset for Fraud Detection'. Available at: https://www.kaggle.com/datasets/valakhorasani/bank-transaction-dataset-for-fraud-detection (Accessed: 24 June 2025). Available license at: https://www.apache.org/licenses/LICENSE-2.0.**"
   ]
  },
  {
   "cell_type": "markdown",
   "id": "0c65a102-c921-4d50-af1a-d56a6dec9d1e",
   "metadata": {},
   "source": [
    "## Problem Definition"
   ]
  },
  {
   "cell_type": "code",
   "execution_count": null,
   "id": "2e7da1a6-a477-4cce-b9ad-1a56227afca3",
   "metadata": {},
   "outputs": [],
   "source": []
  },
  {
   "cell_type": "markdown",
   "id": "347e0f97-7a22-4161-8b8d-f10cde3029d5",
   "metadata": {},
   "source": [
    "## Data Preprocessing"
   ]
  },
  {
   "cell_type": "code",
   "execution_count": null,
   "id": "c538455a-16ac-4a42-80ab-15afae90fffc",
   "metadata": {},
   "outputs": [],
   "source": []
  },
  {
   "cell_type": "markdown",
   "id": "64c11a47-8130-4ca9-8d5e-2ffb8874654c",
   "metadata": {},
   "source": [
    "### Feature Selection and Augmentation"
   ]
  },
  {
   "cell_type": "code",
   "execution_count": null,
   "id": "580d7ba9-92fe-4691-bb68-16955573bfbb",
   "metadata": {},
   "outputs": [],
   "source": []
  },
  {
   "cell_type": "markdown",
   "id": "a7bf11f9-95a8-4d93-bf16-6c2d8227d109",
   "metadata": {},
   "source": [
    "## Exploratory Data Analysis"
   ]
  },
  {
   "cell_type": "code",
   "execution_count": null,
   "id": "57dabdc8-8a31-4433-98e6-4ce5a77f7537",
   "metadata": {},
   "outputs": [],
   "source": []
  },
  {
   "cell_type": "markdown",
   "id": "4fe97d2c-5543-4d5e-9497-82247921d39f",
   "metadata": {},
   "source": [
    "## Model Development and Evaluation"
   ]
  },
  {
   "cell_type": "code",
   "execution_count": null,
   "id": "9b8d8ea2-946e-4551-897d-c5d64b9eac52",
   "metadata": {},
   "outputs": [],
   "source": []
  },
  {
   "cell_type": "markdown",
   "id": "9f6bd5f3-d42c-4a2f-8e95-5ac026db7821",
   "metadata": {},
   "source": [
    "### K-Means for Fraud Detection"
   ]
  },
  {
   "cell_type": "code",
   "execution_count": null,
   "id": "189c256b-8667-464e-b953-4675305fc7a8",
   "metadata": {},
   "outputs": [],
   "source": []
  },
  {
   "cell_type": "markdown",
   "id": "12abf607-9fa0-458b-8011-48475276df2a",
   "metadata": {},
   "source": [
    "### Outlier Identification"
   ]
  },
  {
   "cell_type": "code",
   "execution_count": null,
   "id": "66515865-e621-4883-8323-9a110b05b598",
   "metadata": {},
   "outputs": [],
   "source": []
  },
  {
   "cell_type": "markdown",
   "id": "7c194891-2c4c-4f8f-aaf8-39117040e492",
   "metadata": {},
   "source": [
    "## Analysing Clusters"
   ]
  },
  {
   "cell_type": "code",
   "execution_count": null,
   "id": "a50c7e10-8fd1-43fb-9ff1-6979aeaeb30a",
   "metadata": {},
   "outputs": [],
   "source": []
  },
  {
   "cell_type": "markdown",
   "id": "20a888a3-9120-4613-97e6-d5d17ce5ff5d",
   "metadata": {},
   "source": [
    "## Ethical Consideration"
   ]
  },
  {
   "cell_type": "code",
   "execution_count": null,
   "id": "bbe84841-0dd8-4889-b344-d8467dce4d65",
   "metadata": {},
   "outputs": [],
   "source": []
  }
 ],
 "metadata": {
  "kernelspec": {
   "display_name": "Python 3 (ipykernel)",
   "language": "python",
   "name": "python3"
  },
  "language_info": {
   "codemirror_mode": {
    "name": "ipython",
    "version": 3
   },
   "file_extension": ".py",
   "mimetype": "text/x-python",
   "name": "python",
   "nbconvert_exporter": "python",
   "pygments_lexer": "ipython3",
   "version": "3.11.7"
  }
 },
 "nbformat": 4,
 "nbformat_minor": 5
}
